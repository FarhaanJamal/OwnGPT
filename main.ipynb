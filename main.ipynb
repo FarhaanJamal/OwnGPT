{
 "cells": [
  {
   "cell_type": "code",
   "execution_count": 2,
   "metadata": {},
   "outputs": [],
   "source": [
    "import os\n",
    "import openai\n",
    "from dotenv import load_dotenv\n",
    "load_dotenv()\n",
    "os.environ[\"OPENAI_API_KEY\"] = os.getenv(\"OPENAI_API_KEY\")"
   ]
  },
  {
   "cell_type": "code",
   "execution_count": 3,
   "metadata": {},
   "outputs": [
    {
     "name": "stdout",
     "output_type": "stream",
     "text": [
      "1\n"
     ]
    }
   ],
   "source": [
    "from langchain.document_loaders import DirectoryLoader\n",
    "\n",
    "directory = 'C:/Users/farha/Desktop/Farhaan/OwnGPT/files'\n",
    "\n",
    "def load_docs(directory):\n",
    "    loader = DirectoryLoader(directory)\n",
    "    documents = loader.load()\n",
    "    return documents\n",
    "\n",
    "documents = load_docs(directory)\n",
    "print(len(documents))"
   ]
  },
  {
   "cell_type": "code",
   "execution_count": 4,
   "metadata": {},
   "outputs": [
    {
     "name": "stdout",
     "output_type": "stream",
     "text": [
      "8\n"
     ]
    }
   ],
   "source": [
    "from langchain.text_splitter import RecursiveCharacterTextSplitter\n",
    "\n",
    "def split_docs(documents, chunk_size=1000, chunk_overlap=20):\n",
    "    txt_splitter = RecursiveCharacterTextSplitter(chunk_size=chunk_size, chunk_overlap=chunk_overlap)\n",
    "    docs = txt_splitter.split_documents(documents)\n",
    "    return docs\n",
    "\n",
    "docs = split_docs(documents)\n",
    "print(len(docs))"
   ]
  },
  {
   "cell_type": "code",
   "execution_count": 5,
   "metadata": {},
   "outputs": [
    {
     "name": "stdout",
     "output_type": "stream",
     "text": [
      "The mission objectives of Chandrayaan-3 are:\n",
      "\n",
      "1. To demonstrate Safe and Soft Landing on Lunar Surface 2. To demonstrate Rover roving on the moon and 3. To conduct in-situ scientific experiments.\n",
      "\n",
      "To achieve the mission objectives, several advanced technologies are present in Lander such as,\n",
      "\n",
      "1. Altimeters: Laser & RF based Altimeters 2. Velocimeters: Laser Doppler Velocimeter & Lander Horizontal Velocity Camera\n",
      "\n",
      "3.\n",
      "\n",
      "Inertial Measurement: Laser Gyro based Inertial referencing and Accelerometer package\n",
      "\n",
      "4. Propulsion System: 800N Throttleable Liquid Engines, 58N attitude thrusters &\n",
      "\n",
      "Throttleable Engine Control Electronics\n",
      "\n",
      "5. Navigation, Guidance & Control (NGC): Powered Descent Trajectory design and\n",
      "\n",
      "associate software elements\n",
      "\n",
      "6. Hazard Detection and Avoidance: Lander Hazard Detection & Avoidance Camera\n",
      "\n",
      "and Processing Algorithm 7. Landing Leg Mechanism.\n"
     ]
    }
   ],
   "source": [
    "print(docs[3].page_content)"
   ]
  },
  {
   "cell_type": "code",
   "execution_count": 6,
   "metadata": {},
   "outputs": [
    {
     "name": "stdout",
     "output_type": "stream",
     "text": [
      "1536\n"
     ]
    }
   ],
   "source": [
    "from langchain.embeddings.openai import OpenAIEmbeddings\n",
    "\n",
    "embeddings = OpenAIEmbeddings(tiktoken_model_name=\"ada\")\n",
    "query_result = embeddings.embed_query(\"Hello World\")\n",
    "print(len(query_result))"
   ]
  },
  {
   "cell_type": "code",
   "execution_count": 7,
   "metadata": {},
   "outputs": [
    {
     "name": "stderr",
     "output_type": "stream",
     "text": [
      "c:\\Users\\farha\\anaconda3\\envs\\testenv\\lib\\site-packages\\pinecone\\index.py:4: TqdmWarning: IProgress not found. Please update jupyter and ipywidgets. See https://ipywidgets.readthedocs.io/en/stable/user_install.html\n",
      "  from tqdm.autonotebook import tqdm\n"
     ]
    }
   ],
   "source": [
    "import pinecone\n",
    "from langchain.vectorstores import Pinecone\n",
    "\n",
    "pinecone.init(\n",
    "    api_key=os.getenv(\"PINECONE_API_KEY\"),\n",
    "    environment=\"asia-southeast1-gcp-free\"\n",
    ")\n",
    "\n",
    "index_name = \"owngpt-index\"\n",
    "index = Pinecone.from_documents(docs, embeddings, index_name=index_name)\n"
   ]
  },
  {
   "cell_type": "code",
   "execution_count": 8,
   "metadata": {},
   "outputs": [],
   "source": [
    "#index.delete(delete_all=True, namespace='')"
   ]
  },
  {
   "cell_type": "code",
   "execution_count": 9,
   "metadata": {},
   "outputs": [
    {
     "name": "stdout",
     "output_type": "stream",
     "text": [
      "[Document(page_content='(APXS) and Laser\\n\\nChandrayaan-3 consists of an indigenous Lander module (LM), Propulsion module (PM) and a Rover with an objective of developing and demonstrating new technologies required for Inter planetary missions. The Lander will have the capability to soft land at a specified lunar site and deploy the Rover which will carry out in-situ chemical analysis of the lunar surface during the course of its mobility. The Lander and the Rover have scientific payloads to carry out experiments on the lunar surface. The main function of PM is to carry the LM from launch vehicle injection till final lunar 100 km circular polar orbit and separate the LM from PM. Apart from this, the Propulsion Module also has one scientific payload as a value addition which will be operated post separation of Lander Module. The launcher identified for Chandrayaan-3 is LVM3 M4 which will place the integrated module in an Elliptic Parking Orbit (EPO) of size ~170 x 36500 km.', metadata={'source': 'C:\\\\Users\\\\farha\\\\Desktop\\\\Farhaan\\\\OwnGPT\\\\files\\\\OwnGPT-chandrayaan3.pdf'}), Document(page_content='(APXS) and Laser\\n\\nChandrayaan-3 consists of an indigenous Lander module (LM), Propulsion module (PM) and a Rover with an objective of developing and demonstrating new technologies required for Inter planetary missions. The Lander will have the capability to soft land at a specified lunar site and deploy the Rover which will carry out in-situ chemical analysis of the lunar surface during the course of its mobility. The Lander and the Rover have scientific payloads to carry out experiments on the lunar surface. The main function of PM is to carry the LM from launch vehicle injection till final lunar 100 km circular polar orbit and separate the LM from PM. Apart from this, the Propulsion Module also has one scientific payload as a value addition which will be operated post separation of Lander Module. The launcher identified for Chandrayaan-3 is LVM3 M4 which will place the integrated module in an Elliptic Parking Orbit (EPO) of size ~170 x 36500 km.', metadata={'source': 'C:\\\\Users\\\\farha\\\\Desktop\\\\Farhaan\\\\OwnGPT\\\\files\\\\OwnGPT-chandrayaan3.pdf'})]\n"
     ]
    }
   ],
   "source": [
    "def get_similar_docs(query, k=2, score=False):\n",
    "    if score:\n",
    "        similar_docs = index.similarity_search_with_score(query, k=k)\n",
    "    else:\n",
    "        similar_docs = index.similarity_search(query, k=k)\n",
    "    return similar_docs\n",
    "\n",
    "query = \"What is the goal of chandrayaan 3?\"\n",
    "similar_docs = get_similar_docs(query)\n",
    "print(similar_docs)"
   ]
  },
  {
   "cell_type": "code",
   "execution_count": 10,
   "metadata": {},
   "outputs": [
    {
     "name": "stderr",
     "output_type": "stream",
     "text": [
      "c:\\Users\\farha\\anaconda3\\envs\\testenv\\lib\\site-packages\\langchain\\llms\\openai.py:200: UserWarning: You are trying to use a chat model. This way of initializing it is no longer supported. Instead, please use: `from langchain.chat_models import ChatOpenAI`\n",
      "  warnings.warn(\n",
      "c:\\Users\\farha\\anaconda3\\envs\\testenv\\lib\\site-packages\\langchain\\llms\\openai.py:785: UserWarning: You are trying to use a chat model. This way of initializing it is no longer supported. Instead, please use: `from langchain.chat_models import ChatOpenAI`\n",
      "  warnings.warn(\n"
     ]
    }
   ],
   "source": [
    "from langchain.llms import OpenAI\n",
    "model_name = \"gpt-3.5-turbo\"\n",
    "llm = OpenAI(model_name=model_name)"
   ]
  },
  {
   "cell_type": "code",
   "execution_count": 13,
   "metadata": {},
   "outputs": [
    {
     "name": "stdout",
     "output_type": "stream",
     "text": [
      "The goal of Chandrayaan-3 is to develop and demonstrate new technologies required for interplanetary missions, including soft landing on a specified lunar site and conducting in-situ chemical analysis of the lunar surface.\n"
     ]
    }
   ],
   "source": [
    "from langchain.chains.question_answering import load_qa_chain\n",
    "chain = load_qa_chain(llm, chain_type=\"stuff\")\n",
    "\n",
    "def get_answer(query):\n",
    "    similar_docs = get_similar_docs(query)\n",
    "    #print(similar_docs)\n",
    "    answer = chain.run(input_documents=similar_docs, question=query)\n",
    "    return answer\n",
    "\n",
    "query = \"What is the goal of chandrayaan 3?\"\n",
    "ans = get_answer(query) \n",
    "print(ans)"
   ]
  },
  {
   "cell_type": "code",
   "execution_count": 14,
   "metadata": {},
   "outputs": [
    {
     "name": "stdout",
     "output_type": "stream",
     "text": [
      "The goal of Chandrayaan-3 is to develop and demonstrate new technologies required for interplanetary missions, specifically focusing on soft landing at a specified lunar site, in-situ chemical analysis of the lunar surface, and conducting scientific experiments on the lunar surface.\n"
     ]
    }
   ],
   "source": [
    "query = input(\"Enter the query(To end: \\'x\\'): \")\n",
    "while query != \"x\":\n",
    "    print(get_answer(query))\n",
    "    query = input(\"Enter the query(To end: \\'x\\'): \")"
   ]
  }
 ],
 "metadata": {
  "kernelspec": {
   "display_name": "testenv",
   "language": "python",
   "name": "python3"
  },
  "language_info": {
   "codemirror_mode": {
    "name": "ipython",
    "version": 3
   },
   "file_extension": ".py",
   "mimetype": "text/x-python",
   "name": "python",
   "nbconvert_exporter": "python",
   "pygments_lexer": "ipython3",
   "version": "3.9.16"
  },
  "orig_nbformat": 4
 },
 "nbformat": 4,
 "nbformat_minor": 2
}
